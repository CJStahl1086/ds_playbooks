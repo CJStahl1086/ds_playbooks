{
 "cells": [
  {
   "cell_type": "code",
   "execution_count": 2,
   "id": "6beec305",
   "metadata": {},
   "outputs": [
    {
     "ename": "ModuleNotFoundError",
     "evalue": "No module named 'keras'",
     "output_type": "error",
     "traceback": [
      "\u001b[0;31m---------------------------------------------------------------------------\u001b[0m",
      "\u001b[0;31mModuleNotFoundError\u001b[0m                       Traceback (most recent call last)",
      "Input \u001b[0;32mIn [2]\u001b[0m, in \u001b[0;36m<cell line: 6>\u001b[0;34m()\u001b[0m\n\u001b[1;32m      4\u001b[0m \u001b[38;5;28;01mimport\u001b[39;00m \u001b[38;5;21;01mpandas\u001b[39;00m \u001b[38;5;28;01mas\u001b[39;00m \u001b[38;5;21;01mpd\u001b[39;00m\n\u001b[1;32m      5\u001b[0m \u001b[38;5;28;01mfrom\u001b[39;00m \u001b[38;5;21;01msklearn\u001b[39;00m\u001b[38;5;21;01m.\u001b[39;00m\u001b[38;5;21;01mpreprocessing\u001b[39;00m \u001b[38;5;28;01mimport\u001b[39;00m MinMaxScaler\n\u001b[0;32m----> 6\u001b[0m \u001b[38;5;28;01mfrom\u001b[39;00m \u001b[38;5;21;01mkeras\u001b[39;00m\u001b[38;5;21;01m.\u001b[39;00m\u001b[38;5;21;01mmodels\u001b[39;00m \u001b[38;5;28;01mimport\u001b[39;00m Sequential\n\u001b[1;32m      7\u001b[0m \u001b[38;5;28;01mfrom\u001b[39;00m \u001b[38;5;21;01mkeras\u001b[39;00m\u001b[38;5;21;01m.\u001b[39;00m\u001b[38;5;21;01mlayers\u001b[39;00m \u001b[38;5;28;01mimport\u001b[39;00m Dense, LSTM\n\u001b[1;32m      8\u001b[0m \u001b[38;5;28;01mimport\u001b[39;00m \u001b[38;5;21;01mmatplot\u001b[39;00m\n",
      "\u001b[0;31mModuleNotFoundError\u001b[0m: No module named 'keras'"
     ]
    }
   ],
   "source": [
    "import math\n",
    "#import pandas_datareader as web\n",
    "import numpy as np\n",
    "import pandas as pd\n",
    "from sklearn.preprocessing import MinMaxScaler\n",
    "from keras.models import Sequential\n",
    "from keras.layers import Dense, LSTM\n",
    "import matplot\n",
    "\n",
    "import matplotlib.pyplot as plt\n",
    "plt.style.use('fivethirtyeight')"
   ]
  },
  {
   "cell_type": "code",
   "execution_count": null,
   "id": "8088dc37",
   "metadata": {},
   "outputs": [],
   "source": [
    "#This program uses an artificial recurrent neural network called Long Short Term Memory (LSTM)  to predict the \n",
    "#closing stock price of a corporation (Apple Inc.) using the past 60 day stock price.\n",
    "#LSTM is an artificial neural network architecture that has feedback connections \n",
    "#store past information that is importand and forget unimportant information"
   ]
  },
  {
   "cell_type": "code",
   "execution_count": null,
   "id": "bc7da69f",
   "metadata": {},
   "outputs": [],
   "source": [
    "#source(https://www.youtube.com/watch?v=QIUxPv5PJOY)"
   ]
  },
  {
   "cell_type": "code",
   "execution_count": null,
   "id": "99981b55",
   "metadata": {},
   "outputs": [],
   "source": [
    "#Get the stock quote\n",
    "df = web.DataReader('AAPL', data_source='yahoo', start='2012-01-01', end='2019-12-17')\n",
    "#Show data\n",
    "df"
   ]
  },
  {
   "cell_type": "code",
   "execution_count": null,
   "id": "610a3aad",
   "metadata": {},
   "outputs": [],
   "source": [
    "df.shape"
   ]
  },
  {
   "cell_type": "code",
   "execution_count": null,
   "id": "02a2ffd9",
   "metadata": {},
   "outputs": [],
   "source": [
    "#visualize the closing price history\n",
    "plt.figure(figsize=(16,8))\n",
    "plt.title('Closing Price History')\n",
    "plt.plot(df['Close'])\n",
    "plt.ylabel('USD')\n",
    "plt.xlabel('Date')"
   ]
  },
  {
   "cell_type": "code",
   "execution_count": null,
   "id": "c136f60c",
   "metadata": {},
   "outputs": [],
   "source": [
    "#create a new dataframe with only the close column\n",
    "data = data.filter(['close'])\n",
    "#convert the df to a np array\n",
    "dataset =  data.values\n",
    "#get number of rows to train the model on\n",
    "training_data_len = len(dataset) * .8\n",
    "training_data_len"
   ]
  },
  {
   "cell_type": "code",
   "execution_count": null,
   "id": "cc63a3f7",
   "metadata": {},
   "outputs": [],
   "source": [
    "#scale the data\n",
    "scaler = MinMaxScaler(feature_range=(0,1))\n",
    "scaled_data = scaler.fit_transform(dataset)se column\n",
    "data = data.filter(['close'])\n",
    "\n",
    "scaled_data"
   ]
  },
  {
   "cell_type": "code",
   "execution_count": null,
   "id": "3a4f1a52",
   "metadata": {},
   "outputs": [],
   "source": [
    "#Create the training data set\n",
    "#Create the scaled training data set\n",
    "train_data = scaled_data[0:training_daata_len, :]\n",
    "#Split data into x and y\n",
    "x_train = []\n",
    "#dependent or predicted variable\n",
    "y_train = []\n",
    "\n",
    "for i in range(60, len(train_data)):\n",
    "    x_train.append(train_data[i-60:i,0])\n",
    "    y_train.append(train_data[i,0])\n",
    "    if i<= 60: \n",
    "        print"
   ]
  },
  {
   "cell_type": "code",
   "execution_count": null,
   "id": "97c5d7bf",
   "metadata": {},
   "outputs": [],
   "source": [
    "#convert the x_trai and y_train to numpy arrays\n",
    "x_train, y_train = np.array(x_train), np.array(y_train)\n",
    "\n"
   ]
  },
  {
   "cell_type": "code",
   "execution_count": 4,
   "id": "ef015ac2",
   "metadata": {},
   "outputs": [
    {
     "ename": "NameError",
     "evalue": "name 'np' is not defined",
     "output_type": "error",
     "traceback": [
      "\u001b[0;31m---------------------------------------------------------------------------\u001b[0m",
      "\u001b[0;31mNameError\u001b[0m                                 Traceback (most recent call last)",
      "Input \u001b[0;32mIn [4]\u001b[0m, in \u001b[0;36m<cell line: 3>\u001b[0;34m()\u001b[0m\n\u001b[1;32m      1\u001b[0m \u001b[38;5;66;03m#reshape the data\u001b[39;00m\n\u001b[1;32m      2\u001b[0m \u001b[38;5;66;03m#LTSM network expects the data to be 2Diminensional\u001b[39;00m\n\u001b[0;32m----> 3\u001b[0m x_train \u001b[38;5;241m=\u001b[39m \u001b[43mnp\u001b[49m\u001b[38;5;241m.\u001b[39mreshape(x_train, (x_train\u001b[38;5;241m.\u001b[39mshape[\u001b[38;5;241m0\u001b[39m], x_train\u001b[38;5;241m.\u001b[39mshape[\u001b[38;5;241m1\u001b[39m], \u001b[38;5;241m1\u001b[39m))\n\u001b[1;32m      4\u001b[0m x_train\u001b[38;5;241m.\u001b[39mshape\n",
      "\u001b[0;31mNameError\u001b[0m: name 'np' is not defined"
     ]
    }
   ],
   "source": [
    "#reshape the data\n",
    "#LTSM network expects the data to be 2Diminensional\n",
    "x_train = np.reshape(x_train, (x_train.shape[0], x_train.shape[1], 1))\n",
    "x_train.shape"
   ]
  },
  {
   "cell_type": "code",
   "execution_count": null,
   "id": "8937f8b5",
   "metadata": {},
   "outputs": [],
   "source": [
    "#build the LSTM model (the architecture) #s represent nuerons each added line represents layer th\n",
    "model = Sequential()\n",
    "model.add(LSTM(50, return_sequences=True, input_shape=(x_train.shape[1], 1)))\n",
    "model.add(LSTM(50, return_sequences=False))\n",
    "model.add(Dense(25))\n",
    "model.add(Dense(1))"
   ]
  },
  {
   "cell_type": "code",
   "execution_count": null,
   "id": "aff99273",
   "metadata": {},
   "outputs": [],
   "source": [
    "#Compile the model\n",
    "model.compile(optimizer='adam', loss='mean_squared_error')"
   ]
  },
  {
   "cell_type": "code",
   "execution_count": null,
   "id": "0cad8663",
   "metadata": {},
   "outputs": [],
   "source": [
    "#train the model\n",
    "model.fit(x_train, y_train, batch_size=1, epochs=1)"
   ]
  },
  {
   "cell_type": "code",
   "execution_count": null,
   "id": "20077752",
   "metadata": {},
   "outputs": [],
   "source": [
    "#Create the testing data set\n",
    "# Create new array containing scaled values from index 1543-2003\n",
    "test_data = scaled_data[training_data_len - 60: , :]\n",
    "#Created the data sets\n",
    "x_test = []\n",
    "y_test = dataset[training_data_len:, :]\n",
    "\n",
    "for i in range(60, len(test_data)):\n",
    "    x_test.append(test_data[i-60:i,0])"
   ]
  },
  {
   "cell_type": "code",
   "execution_count": null,
   "id": "4a8cf0de",
   "metadata": {},
   "outputs": [],
   "source": [
    "#convert data to numpy array to be used in LTSM model\n",
    "x_test = np.array(x_test)"
   ]
  },
  {
   "cell_type": "code",
   "execution_count": null,
   "id": "57e9c8d0",
   "metadata": {},
   "outputs": [],
   "source": [
    "#reshape the data needs to be 3Dimensional for ltsm model\n",
    "x_test = np.reshape(x_test, (x_test.shape[0], x_test.shape[1], 1 ))"
   ]
  },
  {
   "cell_type": "code",
   "execution_count": null,
   "id": "dca35ab9",
   "metadata": {},
   "outputs": [],
   "source": [
    "#Get the models predicted price values\n",
    "predictions = model.predict(x_test)\n",
    "\n",
    "#inverse transform the data (unscaling the values (USD non normalized))\n",
    "predictions = scaler.inverse_transform(predictions)"
   ]
  },
  {
   "cell_type": "code",
   "execution_count": null,
   "id": "f302db6b",
   "metadata": {},
   "outputs": [],
   "source": [
    "#evaluate the model by getting the root mean squared error (RMSE)  is standard deviation of the residuals\n",
    "RMSE = np.sqrt(np.mean(predictions - y_test)**2)\n",
    "RMSE\n",
    "\n",
    "#0 is perfect\n"
   ]
  },
  {
   "cell_type": "code",
   "execution_count": null,
   "id": "931f6303",
   "metadata": {},
   "outputs": [],
   "source": [
    "#plot the data\n",
    "train = data[:training_data_len]\n",
    "valid = data[training_data_len:]\n",
    "valid['Predictions'] = predictions\n",
    "\n",
    "#visualize the data\n",
    "plt.figure(figsize=(16,8))\n",
    "plt.title('Model')\n",
    "plt.xlabel('Data')\n",
    "plt.ylabel('Close Price USD')\n",
    "plt.plot(train['Close'])\n",
    "plt.plot(valid[['Close','Predictions']])\n",
    "plt.legend(['Train', 'Val', 'Predictions'], loc='lower right')\n",
    "plt.show()"
   ]
  },
  {
   "cell_type": "code",
   "execution_count": null,
   "id": "d5672f4f",
   "metadata": {},
   "outputs": [],
   "source": [
    "#show the valid and predicted prices (shown above)\n",
    "valid"
   ]
  },
  {
   "cell_type": "code",
   "execution_count": null,
   "id": "785549c2",
   "metadata": {},
   "outputs": [],
   "source": [
    "#Get the quote\n",
    "apple_quote = web.DataReader('AAPL', data_source = 'yahoo', start='2012-01-01', end='2019-12-17')\n",
    "#create a new dataframe\n",
    "new_df = apple_quote.filter(['Close'])\n",
    "#get the last 60 day closing prices and conver the data frame to an array\n",
    "last_60_days = new_df[-60:].values\n",
    "#scale the data to be values between 0 and 1\n",
    "last_60_days_scaled = scaler.transform(last_60_days)\n",
    "#create an empty list\n",
    "X_test = []\n",
    "#append the past 60 days\n",
    "X_test.append(last_60_days_scaled)\n",
    "#Conver the x_test data set to np array\n",
    "X_test = np.array(X_test)\n",
    "#Reshape the data to be 3 d for model\n",
    "X_test = np.reshape(X_test, (X_test.shape[0], X_test.shape[1], 1))\n",
    "#Get the predicted scaled price\n",
    "pred_price = model.predict(X_test)\n",
    "#undo the scaling\n",
    "pred_price =  scaler.inverse_transform(pred_price)\n",
    "print(pred_price)"
   ]
  },
  {
   "cell_type": "code",
   "execution_count": null,
   "id": "1d728cc8",
   "metadata": {},
   "outputs": [],
   "source": [
    "#Get the quote\n",
    "apple_quote2 = web.DataReader('AAPL', data_source = 'yahoo', start='2019-12-18', end='2019-12-18')\n",
    "print(apple_quote2['Close])"
   ]
  }
 ],
 "metadata": {
  "kernelspec": {
   "display_name": "Python 3 (ipykernel)",
   "language": "python",
   "name": "python3"
  },
  "language_info": {
   "codemirror_mode": {
    "name": "ipython",
    "version": 3
   },
   "file_extension": ".py",
   "mimetype": "text/x-python",
   "name": "python",
   "nbconvert_exporter": "python",
   "pygments_lexer": "ipython3",
   "version": "3.9.12"
  }
 },
 "nbformat": 4,
 "nbformat_minor": 5
}
