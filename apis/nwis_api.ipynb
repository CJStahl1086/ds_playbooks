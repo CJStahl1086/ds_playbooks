{
 "cells": [
  {
   "cell_type": "code",
   "execution_count": 85,
   "id": "1eaf06fb",
   "metadata": {},
   "outputs": [],
   "source": [
    "import requests\n",
    "import pandas as pd\n",
    "from datetime import datetime\n",
    "from dataretrieval import nwis\n",
    "import matplotlib.pyplot as plt\n",
    "import seaborn as sns"
   ]
  },
  {
   "cell_type": "code",
   "execution_count": 86,
   "id": "834a9448",
   "metadata": {},
   "outputs": [
    {
     "name": "stdout",
     "output_type": "stream",
     "text": [
      "Requirement already satisfied: dataretrieval in /home/chase/anaconda3/lib/python3.9/site-packages (0.7)\n",
      "Requirement already satisfied: requests in /home/chase/anaconda3/lib/python3.9/site-packages (from dataretrieval) (2.27.1)\n",
      "Requirement already satisfied: pandas in /home/chase/anaconda3/lib/python3.9/site-packages (from dataretrieval) (1.4.2)\n",
      "Requirement already satisfied: python-dateutil>=2.8.1 in /home/chase/anaconda3/lib/python3.9/site-packages (from pandas->dataretrieval) (2.8.2)\n",
      "Requirement already satisfied: pytz>=2020.1 in /home/chase/anaconda3/lib/python3.9/site-packages (from pandas->dataretrieval) (2021.3)\n",
      "Requirement already satisfied: numpy>=1.18.5 in /home/chase/anaconda3/lib/python3.9/site-packages (from pandas->dataretrieval) (1.21.5)\n",
      "Requirement already satisfied: six>=1.5 in /home/chase/anaconda3/lib/python3.9/site-packages (from python-dateutil>=2.8.1->pandas->dataretrieval) (1.16.0)\n",
      "Requirement already satisfied: idna<4,>=2.5 in /home/chase/anaconda3/lib/python3.9/site-packages (from requests->dataretrieval) (3.3)\n",
      "Requirement already satisfied: urllib3<1.27,>=1.21.1 in /home/chase/anaconda3/lib/python3.9/site-packages (from requests->dataretrieval) (1.26.9)\n",
      "Requirement already satisfied: charset-normalizer~=2.0.0 in /home/chase/anaconda3/lib/python3.9/site-packages (from requests->dataretrieval) (2.0.4)\n",
      "Requirement already satisfied: certifi>=2017.4.17 in /home/chase/anaconda3/lib/python3.9/site-packages (from requests->dataretrieval) (2021.10.8)\n",
      "Note: you may need to restart the kernel to use updated packages.\n"
     ]
    }
   ],
   "source": [
    "pip install -U dataretrieval"
   ]
  },
  {
   "cell_type": "code",
   "execution_count": null,
   "id": "72867f7a",
   "metadata": {},
   "outputs": [],
   "source": [
    "# pip install -U dataretrieval\n",
    "\n",
    "# NATIONAL WATER INFORMATION SYSTEM\n",
    "\n",
    "# dataretrieval is a Python alternative to USGS-R's dataRetrieval package for obtaining USGS or EPA water quality data,\n",
    "# streamflow data, and metadata directly from web services. Note that dataretrieval is an alternative to the R package,\n",
    "# not a port, in that it reproduces the functionality of the R package but its organization and functionality often differ. \n",
    "# The Python version also expands upon its predecessor by including capability to pull data from a variety of web portals\n",
    "# besides NWIS and STORET.\n",
    "\n",
    "\n",
    "# services (use as service as argument for nwis.get_record())\n",
    "\n",
    "# instantaneous values ('iv') \n",
    "# daily values ('dv')\n",
    "# statistics ('stat')\n",
    "# site info ('site')\n",
    "# discharge peaks ('peaks')\n",
    "# discharge measurements ('measurements')"
   ]
  },
  {
   "cell_type": "code",
   "execution_count": 87,
   "id": "32949ca5",
   "metadata": {},
   "outputs": [
    {
     "data": {
      "text/plain": [
       "7"
      ]
     },
     "execution_count": 87,
     "metadata": {},
     "output_type": "execute_result"
    }
   ],
   "source": [
    "curr_datetime = datetime.now()\n",
    "\n",
    "curr_year = curr_datetime.year\n",
    "curr_month = curr_datetime.month\n",
    "curr_day = curr_datetime.day\n",
    "\n",
    "curr_hour = curr_datetime.hour\n",
    "curr_min = curr_datetime.minute\n",
    "curr_sec = curr_datetime.second\n",
    "\n",
    "curr_min"
   ]
  },
  {
   "cell_type": "code",
   "execution_count": 111,
   "id": "c884c6e4",
   "metadata": {},
   "outputs": [
    {
     "ename": "NameError",
     "evalue": "name 'clinton' is not defined",
     "output_type": "error",
     "traceback": [
      "\u001b[0;31m---------------------------------------------------------------------------\u001b[0m",
      "\u001b[0;31mNameError\u001b[0m                                 Traceback (most recent call last)",
      "Input \u001b[0;32mIn [111]\u001b[0m, in \u001b[0;36m<cell line: 19>\u001b[0;34m()\u001b[0m\n\u001b[1;32m     15\u001b[0m lamar \u001b[38;5;241m=\u001b[39m {\u001b[38;5;124m'\u001b[39m\u001b[38;5;124mynp_tower\u001b[39m\u001b[38;5;124m'\u001b[39m : {\u001b[38;5;124m'\u001b[39m\u001b[38;5;124msite_id\u001b[39m\u001b[38;5;124m'\u001b[39m:\u001b[38;5;124m'\u001b[39m\u001b[38;5;124m06188000\u001b[39m\u001b[38;5;124m'\u001b[39m, \u001b[38;5;124m'\u001b[39m\u001b[38;5;124mlat\u001b[39m\u001b[38;5;124m'\u001b[39m:\u001b[38;5;124m'\u001b[39m\u001b[38;5;124m44.92817778\u001b[39m\u001b[38;5;124m'\u001b[39m , \u001b[38;5;124m'\u001b[39m\u001b[38;5;124mlong\u001b[39m\u001b[38;5;124m'\u001b[39m:\u001b[38;5;124m'\u001b[39m\u001b[38;5;124m-110.3942694\u001b[39m\u001b[38;5;124m'\u001b[39m , \u001b[38;5;124m'\u001b[39m\u001b[38;5;124malt\u001b[39m\u001b[38;5;124m'\u001b[39m:\u001b[38;5;124m'\u001b[39m\u001b[38;5;124m6000\u001b[39m\u001b[38;5;124m'\u001b[39m}\n\u001b[1;32m     16\u001b[0m         }\n\u001b[1;32m     17\u001b[0m thompson \u001b[38;5;241m=\u001b[39m {\u001b[38;5;124m'\u001b[39m\u001b[38;5;124mthompson_falls\u001b[39m\u001b[38;5;124m'\u001b[39m : {\u001b[38;5;124m'\u001b[39m\u001b[38;5;124msite_id\u001b[39m\u001b[38;5;124m'\u001b[39m:\u001b[38;5;124m'\u001b[39m\u001b[38;5;124m12389500\u001b[39m\u001b[38;5;124m'\u001b[39m, \u001b[38;5;124m'\u001b[39m\u001b[38;5;124mlat\u001b[39m\u001b[38;5;124m'\u001b[39m:\u001b[38;5;124m'\u001b[39m\u001b[38;5;124m47.5918583\u001b[39m\u001b[38;5;124m'\u001b[39m , \u001b[38;5;124m'\u001b[39m\u001b[38;5;124mlong\u001b[39m\u001b[38;5;124m'\u001b[39m:\u001b[38;5;124m'\u001b[39m\u001b[38;5;124m-115.229536\u001b[39m\u001b[38;5;124m'\u001b[39m , \u001b[38;5;124m'\u001b[39m\u001b[38;5;124malt\u001b[39m\u001b[38;5;124m'\u001b[39m:\u001b[38;5;124m'\u001b[39m\u001b[38;5;124m2429.97\u001b[39m\u001b[38;5;124m'\u001b[39m}\n\u001b[1;32m     18\u001b[0m         }\n\u001b[0;32m---> 19\u001b[0m rock_creek \u001b[38;5;241m=\u001b[39m {\u001b[43mclinton\u001b[49m : {\u001b[38;5;124m'\u001b[39m\u001b[38;5;124msite_id\u001b[39m\u001b[38;5;124m'\u001b[39m:\u001b[38;5;124m'\u001b[39m\u001b[38;5;124m12334510\u001b[39m\u001b[38;5;124m'\u001b[39m, \u001b[38;5;124m'\u001b[39m\u001b[38;5;124mlat\u001b[39m\u001b[38;5;124m'\u001b[39m:\u001b[38;5;124m'\u001b[39m\u001b[38;5;124m46.7223361\u001b[39m\u001b[38;5;124m'\u001b[39m , \u001b[38;5;124m'\u001b[39m\u001b[38;5;124mlong\u001b[39m\u001b[38;5;124m'\u001b[39m:\u001b[38;5;124m'\u001b[39m\u001b[38;5;124m-113.683061\u001b[39m\u001b[38;5;124m'\u001b[39m , \u001b[38;5;124m'\u001b[39m\u001b[38;5;124malt\u001b[39m\u001b[38;5;124m'\u001b[39m:\u001b[38;5;124m'\u001b[39m\u001b[38;5;124m3519.46\u001b[39m\u001b[38;5;124m'\u001b[39m}\n\u001b[1;32m     20\u001b[0m               }\n\u001b[1;32m     21\u001b[0m clark_fork \u001b[38;5;241m=\u001b[39m {garrison: {\u001b[38;5;124m'\u001b[39m\u001b[38;5;124msite_id\u001b[39m\u001b[38;5;124m'\u001b[39m:\u001b[38;5;124m'\u001b[39m\u001b[38;5;124m12324400\u001b[39m\u001b[38;5;124m'\u001b[39m, \u001b[38;5;124m'\u001b[39m\u001b[38;5;124mlat\u001b[39m\u001b[38;5;124m'\u001b[39m:\u001b[38;5;124m'\u001b[39m\u001b[38;5;124m46.5109111\u001b[39m\u001b[38;5;124m'\u001b[39m , \u001b[38;5;124m'\u001b[39m\u001b[38;5;124mlong\u001b[39m\u001b[38;5;124m'\u001b[39m:\u001b[38;5;124m'\u001b[39m\u001b[38;5;124m-112.789686\u001b[39m\u001b[38;5;124m'\u001b[39m , \u001b[38;5;124m'\u001b[39m\u001b[38;5;124malt\u001b[39m\u001b[38;5;124m'\u001b[39m:\u001b[38;5;124m'\u001b[39m\u001b[38;5;124m4350\u001b[39m\u001b[38;5;124m'\u001b[39m}\n\u001b[1;32m     22\u001b[0m              }\n\u001b[1;32m     24\u001b[0m rivers \u001b[38;5;241m=\u001b[39m [rock_creek, clark_fork]\n",
      "\u001b[0;31mNameError\u001b[0m: name 'clinton' is not defined"
     ]
    }
   ],
   "source": [
    "gallatin  = {'logan': {'site_id':'06052500', 'lat':'45.88535556' , 'long':'-111.438286', 'alt':'4086.42'},\n",
    "             'gateway': {'site_id':'06043500', 'lat':'45.4973' , 'long':'-111.2707083' , 'alt':'5167.67'},\n",
    "             'big_sky' : {'site_id':'06043120', 'lat':'45.29727778', 'long':'-111.2113917' , 'alt':'5875'},\n",
    "             'n_bozeman': {'site_id':'06048650', 'lat':'45.72566667', 'long':'-111.0661944' , 'alt':'4625'}             \n",
    "            }\n",
    "tenmile = {'remini' : {'site_id':'06062500', 'lat':'46.5238972', 'long':'-112.2566472', 'alt':'4850'},\n",
    "           'helena' : {'site_id':'06063000', 'lat':'46.60500556', 'long':'-112.0882639', 'alt':'3953.21'}\n",
    "          }\n",
    "boulder = { 'boulder': {'site_id':'06033000', 'lat':'46.21103056', 'long':'-112.09165', 'alt':'4810'},\n",
    "          }\n",
    "hyalite = { 'bozeman' : {'site_id':'06050000', 'lat':'45.56332778' , 'long':'-111.0718889', 'alt':'5539.6'}\n",
    "          }\n",
    "gardner = { 'mammoth': {'site_id':'06191000', 'lat':'44.9923444' , 'long':'-110.690975' , 'alt':'5623.97'}\n",
    "          }\n",
    "lamar = {'ynp_tower' : {'site_id':'06188000', 'lat':'44.92817778' , 'long':'-110.3942694' , 'alt':'6000'}\n",
    "        }\n",
    "thompson = {'thompson_falls' : {'site_id':'12389500', 'lat':'47.5918583' , 'long':'-115.229536' , 'alt':'2429.97'}\n",
    "        }\n",
    "rock_creek = {clinton : {'site_id':'12334510', 'lat':'46.7223361' , 'long':'-113.683061' , 'alt':'3519.46'}\n",
    "              }\n",
    "clark_fork = {garrison: {'site_id':'12324400', 'lat':'46.5109111' , 'long':'-112.789686' , 'alt':'4350'}\n",
    "             }\n",
    "\n",
    "rivers = [rock_creek, clark_fork]\n",
    "\n",
    "\n",
    "{'site_id':'', 'lat':'' , 'long':'' , 'alt':''  }\n",
    "\n",
    "                   \n",
    "\n",
    "a = pd.DataFrame(tenmile)\n",
    "a = a.transpose()\n",
    "a"
   ]
  },
  {
   "cell_type": "code",
   "execution_count": 89,
   "id": "c4a5a58b",
   "metadata": {},
   "outputs": [
    {
     "data": {
      "text/plain": [
       "'06062500'"
      ]
     },
     "execution_count": 89,
     "metadata": {},
     "output_type": "execute_result"
    }
   ],
   "source": [
    "a.iloc[0][0]"
   ]
  },
  {
   "cell_type": "code",
   "execution_count": 94,
   "id": "34e73d15",
   "metadata": {},
   "outputs": [
    {
     "data": {
      "text/html": [
       "<div>\n",
       "<style scoped>\n",
       "    .dataframe tbody tr th:only-of-type {\n",
       "        vertical-align: middle;\n",
       "    }\n",
       "\n",
       "    .dataframe tbody tr th {\n",
       "        vertical-align: top;\n",
       "    }\n",
       "\n",
       "    .dataframe thead th {\n",
       "        text-align: right;\n",
       "    }\n",
       "</style>\n",
       "<table border=\"1\" class=\"dataframe\">\n",
       "  <thead>\n",
       "    <tr style=\"text-align: right;\">\n",
       "      <th></th>\n",
       "      <th>logan</th>\n",
       "      <th>gateway</th>\n",
       "      <th>big_sky</th>\n",
       "      <th>n_bozeman</th>\n",
       "    </tr>\n",
       "  </thead>\n",
       "  <tbody>\n",
       "    <tr>\n",
       "      <th>site_id</th>\n",
       "      <td>06052500</td>\n",
       "      <td>06043500</td>\n",
       "      <td>06043120</td>\n",
       "      <td>06048650</td>\n",
       "    </tr>\n",
       "    <tr>\n",
       "      <th>lat</th>\n",
       "      <td>45.88535556</td>\n",
       "      <td>45.4973</td>\n",
       "      <td>45.29727778</td>\n",
       "      <td>45.72566667</td>\n",
       "    </tr>\n",
       "    <tr>\n",
       "      <th>long</th>\n",
       "      <td>-111.438286</td>\n",
       "      <td>-111.2707083</td>\n",
       "      <td>-111.2113917</td>\n",
       "      <td>-111.0661944</td>\n",
       "    </tr>\n",
       "    <tr>\n",
       "      <th>alt</th>\n",
       "      <td>4086.42</td>\n",
       "      <td>5167.67</td>\n",
       "      <td>5875</td>\n",
       "      <td>4625</td>\n",
       "    </tr>\n",
       "  </tbody>\n",
       "</table>\n",
       "</div>"
      ],
      "text/plain": [
       "               logan       gateway       big_sky     n_bozeman\n",
       "site_id     06052500      06043500      06043120      06048650\n",
       "lat      45.88535556       45.4973   45.29727778   45.72566667\n",
       "long     -111.438286  -111.2707083  -111.2113917  -111.0661944\n",
       "alt          4086.42       5167.67          5875          4625"
      ]
     },
     "execution_count": 94,
     "metadata": {},
     "output_type": "execute_result"
    }
   ],
   "source": [
    "pd.DataFrame.from_dict(gallatin)"
   ]
  },
  {
   "cell_type": "code",
   "execution_count": 101,
   "id": "a979fc55",
   "metadata": {},
   "outputs": [
    {
     "data": {
      "text/html": [
       "<div>\n",
       "<style scoped>\n",
       "    .dataframe tbody tr th:only-of-type {\n",
       "        vertical-align: middle;\n",
       "    }\n",
       "\n",
       "    .dataframe tbody tr th {\n",
       "        vertical-align: top;\n",
       "    }\n",
       "\n",
       "    .dataframe thead th {\n",
       "        text-align: right;\n",
       "    }\n",
       "</style>\n",
       "<table border=\"1\" class=\"dataframe\">\n",
       "  <thead>\n",
       "    <tr style=\"text-align: right;\">\n",
       "      <th></th>\n",
       "      <th>0</th>\n",
       "      <th>1</th>\n",
       "    </tr>\n",
       "  </thead>\n",
       "  <tbody>\n",
       "    <tr>\n",
       "      <th>0</th>\n",
       "      <td>logan</td>\n",
       "      <td>{'site_id': '06052500', 'lat': '45.88535556', ...</td>\n",
       "    </tr>\n",
       "    <tr>\n",
       "      <th>1</th>\n",
       "      <td>gateway</td>\n",
       "      <td>{'site_id': '06043500', 'lat': '45.4973', 'lon...</td>\n",
       "    </tr>\n",
       "    <tr>\n",
       "      <th>2</th>\n",
       "      <td>big_sky</td>\n",
       "      <td>{'site_id': '06043120', 'lat': '45.29727778', ...</td>\n",
       "    </tr>\n",
       "    <tr>\n",
       "      <th>3</th>\n",
       "      <td>n_bozeman</td>\n",
       "      <td>{'site_id': '06048650', 'lat': '45.72566667', ...</td>\n",
       "    </tr>\n",
       "  </tbody>\n",
       "</table>\n",
       "</div>"
      ],
      "text/plain": [
       "           0                                                  1\n",
       "0      logan  {'site_id': '06052500', 'lat': '45.88535556', ...\n",
       "1    gateway  {'site_id': '06043500', 'lat': '45.4973', 'lon...\n",
       "2    big_sky  {'site_id': '06043120', 'lat': '45.29727778', ...\n",
       "3  n_bozeman  {'site_id': '06048650', 'lat': '45.72566667', ..."
      ]
     },
     "execution_count": 101,
     "metadata": {},
     "output_type": "execute_result"
    }
   ],
   "source": [
    "b = pd.DataFrame(gallatin.items())\n",
    "b"
   ]
  },
  {
   "cell_type": "code",
   "execution_count": 104,
   "id": "b918a0dd",
   "metadata": {},
   "outputs": [
    {
     "data": {
      "text/plain": [
       "dict_keys(['logan', 'gateway', 'big_sky', 'n_bozeman'])"
      ]
     },
     "execution_count": 104,
     "metadata": {},
     "output_type": "execute_result"
    }
   ],
   "source": [
    "gallatin.keys()"
   ]
  },
  {
   "cell_type": "code",
   "execution_count": 78,
   "id": "3a2dc0be",
   "metadata": {},
   "outputs": [
    {
     "data": {
      "text/plain": [
       "logan        06052500\n",
       "gateway      06043500\n",
       "big_sky      06043120\n",
       "n_bozeman    06048650\n",
       "Name: site_id, dtype: object"
      ]
     },
     "execution_count": 78,
     "metadata": {},
     "output_type": "execute_result"
    }
   ],
   "source": [
    "df = pd.DataFrame(gallatin)\n",
    "df = df.transpose()\n",
    "site_id = df['site_id']\n",
    "site_id\n"
   ]
  },
  {
   "cell_type": "code",
   "execution_count": 117,
   "id": "8face928",
   "metadata": {},
   "outputs": [
    {
     "data": {
      "text/html": [
       "<div>\n",
       "<style scoped>\n",
       "    .dataframe tbody tr th:only-of-type {\n",
       "        vertical-align: middle;\n",
       "    }\n",
       "\n",
       "    .dataframe tbody tr th {\n",
       "        vertical-align: top;\n",
       "    }\n",
       "\n",
       "    .dataframe thead th {\n",
       "        text-align: right;\n",
       "    }\n",
       "</style>\n",
       "<table border=\"1\" class=\"dataframe\">\n",
       "  <thead>\n",
       "    <tr style=\"text-align: right;\">\n",
       "      <th></th>\n",
       "      <th>agency_cd</th>\n",
       "      <th>site_no</th>\n",
       "      <th>station_nm</th>\n",
       "      <th>site_tp_cd</th>\n",
       "      <th>lat_va</th>\n",
       "      <th>long_va</th>\n",
       "      <th>dec_lat_va</th>\n",
       "      <th>dec_long_va</th>\n",
       "      <th>coord_meth_cd</th>\n",
       "      <th>coord_acy_cd</th>\n",
       "      <th>...</th>\n",
       "      <th>local_time_fg</th>\n",
       "      <th>reliability_cd</th>\n",
       "      <th>gw_file_cd</th>\n",
       "      <th>nat_aqfr_cd</th>\n",
       "      <th>aqfr_cd</th>\n",
       "      <th>aqfr_type_cd</th>\n",
       "      <th>well_depth_va</th>\n",
       "      <th>hole_depth_va</th>\n",
       "      <th>depth_src_cd</th>\n",
       "      <th>project_no</th>\n",
       "    </tr>\n",
       "  </thead>\n",
       "  <tbody>\n",
       "    <tr>\n",
       "      <th>0</th>\n",
       "      <td>USGS</td>\n",
       "      <td>06061500</td>\n",
       "      <td>Prickly Pear Creek near Clancy MT</td>\n",
       "      <td>ST</td>\n",
       "      <td>463108.75</td>\n",
       "      <td>1115648.43</td>\n",
       "      <td>46.519097</td>\n",
       "      <td>-111.946786</td>\n",
       "      <td>N</td>\n",
       "      <td>1</td>\n",
       "      <td>...</td>\n",
       "      <td>Y</td>\n",
       "      <td>NaN</td>\n",
       "      <td>NYNNNNNN</td>\n",
       "      <td>NaN</td>\n",
       "      <td>NaN</td>\n",
       "      <td>NaN</td>\n",
       "      <td>NaN</td>\n",
       "      <td>NaN</td>\n",
       "      <td>NaN</td>\n",
       "      <td>NaN</td>\n",
       "    </tr>\n",
       "  </tbody>\n",
       "</table>\n",
       "<p>1 rows × 42 columns</p>\n",
       "</div>"
      ],
      "text/plain": [
       "  agency_cd   site_no                         station_nm site_tp_cd  \\\n",
       "0      USGS  06061500  Prickly Pear Creek near Clancy MT         ST   \n",
       "\n",
       "      lat_va     long_va  dec_lat_va  dec_long_va coord_meth_cd  coord_acy_cd  \\\n",
       "0  463108.75  1115648.43   46.519097  -111.946786             N             1   \n",
       "\n",
       "   ... local_time_fg reliability_cd  gw_file_cd  nat_aqfr_cd  aqfr_cd  \\\n",
       "0  ...             Y            NaN    NYNNNNNN          NaN      NaN   \n",
       "\n",
       "  aqfr_type_cd  well_depth_va  hole_depth_va  depth_src_cd  project_no  \n",
       "0          NaN            NaN            NaN           NaN         NaN  \n",
       "\n",
       "[1 rows x 42 columns]"
      ]
     },
     "execution_count": 117,
     "metadata": {},
     "output_type": "execute_result"
    }
   ],
   "source": [
    "df = nwis.get_record(sites=pricklypear_clancy, service='site', start=start, end=end)\n",
    "df"
   ]
  },
  {
   "cell_type": "code",
   "execution_count": 119,
   "id": "0a9fcea8",
   "metadata": {},
   "outputs": [
    {
     "data": {
      "text/html": [
       "<div>\n",
       "<style scoped>\n",
       "    .dataframe tbody tr th:only-of-type {\n",
       "        vertical-align: middle;\n",
       "    }\n",
       "\n",
       "    .dataframe tbody tr th {\n",
       "        vertical-align: top;\n",
       "    }\n",
       "\n",
       "    .dataframe thead th {\n",
       "        text-align: right;\n",
       "    }\n",
       "</style>\n",
       "<table border=\"1\" class=\"dataframe\">\n",
       "  <thead>\n",
       "    <tr style=\"text-align: right;\">\n",
       "      <th></th>\n",
       "      <th>00060_Mean</th>\n",
       "      <th>00060_Mean_cd</th>\n",
       "      <th>site_no</th>\n",
       "    </tr>\n",
       "    <tr>\n",
       "      <th>datetime</th>\n",
       "      <th></th>\n",
       "      <th></th>\n",
       "      <th></th>\n",
       "    </tr>\n",
       "  </thead>\n",
       "  <tbody>\n",
       "    <tr>\n",
       "      <th>2022-10-29 00:00:00+00:00</th>\n",
       "      <td>24.2</td>\n",
       "      <td>P</td>\n",
       "      <td>06061500</td>\n",
       "    </tr>\n",
       "    <tr>\n",
       "      <th>2022-10-30 00:00:00+00:00</th>\n",
       "      <td>24.7</td>\n",
       "      <td>P</td>\n",
       "      <td>06061500</td>\n",
       "    </tr>\n",
       "    <tr>\n",
       "      <th>2022-10-31 00:00:00+00:00</th>\n",
       "      <td>25.2</td>\n",
       "      <td>P</td>\n",
       "      <td>06061500</td>\n",
       "    </tr>\n",
       "    <tr>\n",
       "      <th>2022-11-01 00:00:00+00:00</th>\n",
       "      <td>29.6</td>\n",
       "      <td>P</td>\n",
       "      <td>06061500</td>\n",
       "    </tr>\n",
       "  </tbody>\n",
       "</table>\n",
       "</div>"
      ],
      "text/plain": [
       "                           00060_Mean 00060_Mean_cd   site_no\n",
       "datetime                                                     \n",
       "2022-10-29 00:00:00+00:00        24.2             P  06061500\n",
       "2022-10-30 00:00:00+00:00        24.7             P  06061500\n",
       "2022-10-31 00:00:00+00:00        25.2             P  06061500\n",
       "2022-11-01 00:00:00+00:00        29.6             P  06061500"
      ]
     },
     "execution_count": 119,
     "metadata": {},
     "output_type": "execute_result"
    }
   ],
   "source": [
    "df = nwis.get_record(sites=pricklypear_clancy, service='dv', start=start, end=end)\n",
    "df = df.rename(columns = {'00060':'Discharge (CFS)', '00065':'Depth (ft)'})\n",
    "#df = df.drop(columns = ['00060_cd', 'site_no', '00065_cd']).reset_index()\n",
    "df"
   ]
  },
  {
   "cell_type": "code",
   "execution_count": 28,
   "id": "6dbc4e65",
   "metadata": {},
   "outputs": [],
   "source": [
    "df['day'] = df['datetime'].map(lambda x: x.day)\n",
    "df['month'] = df['datetime'].map(lambda x: x.month)\n",
    "df['year'] = df['datetime'].map(lambda x: x.year)\n",
    "df['hour'] = df['datetime'].map(lambda x: x.hour)\n",
    "df['minute'] = df['datetime'].map(lambda x: x.minute)\n",
    "#df['second'] = df['datetime'].map(lambda x: x.second)"
   ]
  },
  {
   "cell_type": "code",
   "execution_count": 29,
   "id": "c8eeb5a2",
   "metadata": {},
   "outputs": [
    {
     "data": {
      "text/html": [
       "<div>\n",
       "<style scoped>\n",
       "    .dataframe tbody tr th:only-of-type {\n",
       "        vertical-align: middle;\n",
       "    }\n",
       "\n",
       "    .dataframe tbody tr th {\n",
       "        vertical-align: top;\n",
       "    }\n",
       "\n",
       "    .dataframe thead th {\n",
       "        text-align: right;\n",
       "    }\n",
       "</style>\n",
       "<table border=\"1\" class=\"dataframe\">\n",
       "  <thead>\n",
       "    <tr style=\"text-align: right;\">\n",
       "      <th></th>\n",
       "      <th>datetime</th>\n",
       "      <th>Discharge (CFS)</th>\n",
       "      <th>Depth (ft)</th>\n",
       "      <th>day</th>\n",
       "      <th>month</th>\n",
       "      <th>year</th>\n",
       "      <th>hour</th>\n",
       "      <th>minute</th>\n",
       "    </tr>\n",
       "  </thead>\n",
       "  <tbody>\n",
       "    <tr>\n",
       "      <th>0</th>\n",
       "      <td>2022-10-29 00:00:00-06:00</td>\n",
       "      <td>23.7</td>\n",
       "      <td>0.63</td>\n",
       "      <td>29</td>\n",
       "      <td>10</td>\n",
       "      <td>2022</td>\n",
       "      <td>0</td>\n",
       "      <td>0</td>\n",
       "    </tr>\n",
       "    <tr>\n",
       "      <th>1</th>\n",
       "      <td>2022-10-29 00:15:00-06:00</td>\n",
       "      <td>23.7</td>\n",
       "      <td>0.63</td>\n",
       "      <td>29</td>\n",
       "      <td>10</td>\n",
       "      <td>2022</td>\n",
       "      <td>0</td>\n",
       "      <td>15</td>\n",
       "    </tr>\n",
       "    <tr>\n",
       "      <th>2</th>\n",
       "      <td>2022-10-29 00:30:00-06:00</td>\n",
       "      <td>24.2</td>\n",
       "      <td>0.64</td>\n",
       "      <td>29</td>\n",
       "      <td>10</td>\n",
       "      <td>2022</td>\n",
       "      <td>0</td>\n",
       "      <td>30</td>\n",
       "    </tr>\n",
       "    <tr>\n",
       "      <th>3</th>\n",
       "      <td>2022-10-29 00:45:00-06:00</td>\n",
       "      <td>24.2</td>\n",
       "      <td>0.64</td>\n",
       "      <td>29</td>\n",
       "      <td>10</td>\n",
       "      <td>2022</td>\n",
       "      <td>0</td>\n",
       "      <td>45</td>\n",
       "    </tr>\n",
       "    <tr>\n",
       "      <th>4</th>\n",
       "      <td>2022-10-29 01:00:00-06:00</td>\n",
       "      <td>24.2</td>\n",
       "      <td>0.64</td>\n",
       "      <td>29</td>\n",
       "      <td>10</td>\n",
       "      <td>2022</td>\n",
       "      <td>1</td>\n",
       "      <td>0</td>\n",
       "    </tr>\n",
       "    <tr>\n",
       "      <th>...</th>\n",
       "      <td>...</td>\n",
       "      <td>...</td>\n",
       "      <td>...</td>\n",
       "      <td>...</td>\n",
       "      <td>...</td>\n",
       "      <td>...</td>\n",
       "      <td>...</td>\n",
       "      <td>...</td>\n",
       "    </tr>\n",
       "    <tr>\n",
       "      <th>362</th>\n",
       "      <td>2022-11-01 18:30:00-06:00</td>\n",
       "      <td>30.2</td>\n",
       "      <td>0.75</td>\n",
       "      <td>1</td>\n",
       "      <td>11</td>\n",
       "      <td>2022</td>\n",
       "      <td>18</td>\n",
       "      <td>30</td>\n",
       "    </tr>\n",
       "    <tr>\n",
       "      <th>363</th>\n",
       "      <td>2022-11-01 18:45:00-06:00</td>\n",
       "      <td>30.2</td>\n",
       "      <td>0.75</td>\n",
       "      <td>1</td>\n",
       "      <td>11</td>\n",
       "      <td>2022</td>\n",
       "      <td>18</td>\n",
       "      <td>45</td>\n",
       "    </tr>\n",
       "    <tr>\n",
       "      <th>364</th>\n",
       "      <td>2022-11-01 19:00:00-06:00</td>\n",
       "      <td>30.2</td>\n",
       "      <td>0.75</td>\n",
       "      <td>1</td>\n",
       "      <td>11</td>\n",
       "      <td>2022</td>\n",
       "      <td>19</td>\n",
       "      <td>0</td>\n",
       "    </tr>\n",
       "    <tr>\n",
       "      <th>365</th>\n",
       "      <td>2022-11-01 19:15:00-06:00</td>\n",
       "      <td>30.2</td>\n",
       "      <td>0.75</td>\n",
       "      <td>1</td>\n",
       "      <td>11</td>\n",
       "      <td>2022</td>\n",
       "      <td>19</td>\n",
       "      <td>15</td>\n",
       "    </tr>\n",
       "    <tr>\n",
       "      <th>366</th>\n",
       "      <td>2022-11-01 19:30:00-06:00</td>\n",
       "      <td>30.2</td>\n",
       "      <td>0.75</td>\n",
       "      <td>1</td>\n",
       "      <td>11</td>\n",
       "      <td>2022</td>\n",
       "      <td>19</td>\n",
       "      <td>30</td>\n",
       "    </tr>\n",
       "  </tbody>\n",
       "</table>\n",
       "<p>367 rows × 8 columns</p>\n",
       "</div>"
      ],
      "text/plain": [
       "                     datetime  Discharge (CFS)  Depth (ft)  day  month  year  \\\n",
       "0   2022-10-29 00:00:00-06:00             23.7        0.63   29     10  2022   \n",
       "1   2022-10-29 00:15:00-06:00             23.7        0.63   29     10  2022   \n",
       "2   2022-10-29 00:30:00-06:00             24.2        0.64   29     10  2022   \n",
       "3   2022-10-29 00:45:00-06:00             24.2        0.64   29     10  2022   \n",
       "4   2022-10-29 01:00:00-06:00             24.2        0.64   29     10  2022   \n",
       "..                        ...              ...         ...  ...    ...   ...   \n",
       "362 2022-11-01 18:30:00-06:00             30.2        0.75    1     11  2022   \n",
       "363 2022-11-01 18:45:00-06:00             30.2        0.75    1     11  2022   \n",
       "364 2022-11-01 19:00:00-06:00             30.2        0.75    1     11  2022   \n",
       "365 2022-11-01 19:15:00-06:00             30.2        0.75    1     11  2022   \n",
       "366 2022-11-01 19:30:00-06:00             30.2        0.75    1     11  2022   \n",
       "\n",
       "     hour  minute  \n",
       "0       0       0  \n",
       "1       0      15  \n",
       "2       0      30  \n",
       "3       0      45  \n",
       "4       1       0  \n",
       "..    ...     ...  \n",
       "362    18      30  \n",
       "363    18      45  \n",
       "364    19       0  \n",
       "365    19      15  \n",
       "366    19      30  \n",
       "\n",
       "[367 rows x 8 columns]"
      ]
     },
     "execution_count": 29,
     "metadata": {},
     "output_type": "execute_result"
    }
   ],
   "source": [
    "df"
   ]
  },
  {
   "cell_type": "code",
   "execution_count": 30,
   "id": "ab720b47",
   "metadata": {},
   "outputs": [
    {
     "name": "stderr",
     "output_type": "stream",
     "text": [
      "/home/chase/anaconda3/lib/python3.9/site-packages/seaborn/_decorators.py:36: FutureWarning: Pass the following variables as keyword args: x, y. From version 0.12, the only valid positional argument will be `data`, and passing other arguments without an explicit keyword will result in an error or misinterpretation.\n",
      "  warnings.warn(\n"
     ]
    },
    {
     "data": {
      "text/plain": [
       "<AxesSubplot:xlabel='datetime', ylabel='Discharge (CFS)'>"
      ]
     },
     "execution_count": 30,
     "metadata": {},
     "output_type": "execute_result"
    },
    {
     "data": {
      "image/png": "[encoded data removed]",
      "text/plain": [
       "<Figure size 576x432 with 1 Axes>"
      ]
     },
     "metadata": {
      "needs_background": "light"
     },
     "output_type": "display_data"
    }
   ],
   "source": [
    "plt.style.use('seaborn-colorblind')\n",
    "\n",
    "plt.figure(figsize=(8,6))\n",
    "sns.scatterplot(df['datetime'], df['Discharge (CFS)'])"
   ]
  },
  {
   "cell_type": "code",
   "execution_count": null,
   "id": "e343f87d",
   "metadata": {},
   "outputs": [],
   "source": []
  }
 ],
 "metadata": {
  "kernelspec": {
   "display_name": "Python 3 (ipykernel)",
   "language": "python",
   "name": "python3"
  },
  "language_info": {
   "codemirror_mode": {
    "name": "ipython",
    "version": 3
   },
   "file_extension": ".py",
   "mimetype": "text/x-python",
   "name": "python",
   "nbconvert_exporter": "python",
   "pygments_lexer": "ipython3",
   "version": "3.9.12"
  }
 },
 "nbformat": 4,
 "nbformat_minor": 5
}
