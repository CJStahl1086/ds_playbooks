{
 "cells": [
  {
   "cell_type": "code",
   "execution_count": 1,
   "id": "f1c14d32",
   "metadata": {},
   "outputs": [],
   "source": [
    "import boto3"
   ]
  },
  {
   "cell_type": "code",
   "execution_count": 4,
   "id": "e9bf2fcd",
   "metadata": {},
   "outputs": [],
   "source": [
    "S3_client = boto3.client('s3')"
   ]
  },
  {
   "cell_type": "code",
   "execution_count": 6,
   "id": "a2dfcc5e",
   "metadata": {},
   "outputs": [
    {
     "name": "stdout",
     "output_type": "stream",
     "text": [
      "Requirement already satisfied: boto3 in /home/chase/anaconda3/lib/python3.9/site-packages (1.21.32)\n",
      "Requirement already satisfied: s3transfer<0.6.0,>=0.5.0 in /home/chase/anaconda3/lib/python3.9/site-packages (from boto3) (0.5.0)\n",
      "Requirement already satisfied: botocore<1.25.0,>=1.24.32 in /home/chase/anaconda3/lib/python3.9/site-packages (from boto3) (1.24.32)\n",
      "Requirement already satisfied: jmespath<2.0.0,>=0.7.1 in /home/chase/anaconda3/lib/python3.9/site-packages (from boto3) (0.10.0)\n",
      "Requirement already satisfied: python-dateutil<3.0.0,>=2.1 in /home/chase/anaconda3/lib/python3.9/site-packages (from botocore<1.25.0,>=1.24.32->boto3) (2.8.2)\n",
      "Requirement already satisfied: urllib3<1.27,>=1.25.4 in /home/chase/anaconda3/lib/python3.9/site-packages (from botocore<1.25.0,>=1.24.32->boto3) (1.26.9)\n",
      "Requirement already satisfied: six>=1.5 in /home/chase/anaconda3/lib/python3.9/site-packages (from python-dateutil<3.0.0,>=2.1->botocore<1.25.0,>=1.24.32->boto3) (1.16.0)\n",
      "Note: you may need to restart the kernel to use updated packages.\n"
     ]
    }
   ],
   "source": [
    "pip install boto3"
   ]
  },
  {
   "cell_type": "code",
   "execution_count": 8,
   "id": "d49b137b",
   "metadata": {},
   "outputs": [],
   "source": [
    "s3 = boto3.resource('s3')"
   ]
  },
  {
   "cell_type": "code",
   "execution_count": 12,
   "id": "661f5add",
   "metadata": {},
   "outputs": [],
   "source": [
    "s3 = boto3.client('s3')\n",
    "s3.download_file('purewatersff', 'purewaters.db', 'purewaters.db')\n",
    "\n",
    "with open('purewaters.db', 'wb') as f:\n",
    "    s3.download_fileobj('purewatersff', 'purewaters.db', f)"
   ]
  }
 ],
 "metadata": {
  "kernelspec": {
   "display_name": "Python 3 (ipykernel)",
   "language": "python",
   "name": "python3"
  },
  "language_info": {
   "codemirror_mode": {
    "name": "ipython",
    "version": 3
   },
   "file_extension": ".py",
   "mimetype": "text/x-python",
   "name": "python",
   "nbconvert_exporter": "python",
   "pygments_lexer": "ipython3",
   "version": "3.9.12"
  }
 },
 "nbformat": 4,
 "nbformat_minor": 5
}
