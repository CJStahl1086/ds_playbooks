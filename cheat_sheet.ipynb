{
 "cells": [
  {
   "cell_type": "code",
   "execution_count": 1,
   "id": "fbbe75e3",
   "metadata": {},
   "outputs": [],
   "source": [
    "#Package Installation\n",
    "\n",
    "#Plotting Geographic coordinates (install in this order)\n",
    "#pip install geos!!\n",
    "#pip install shapely\n",
    "#pip install pyproj\n",
    "#pip install fiona\n",
    "#pip install geopandas\n",
    "#pip install geoplot\n",
    "\n",
    "#NWIS API\n",
    "#pip install -Udataretrieval\n",
    "\n",
    "#WRAPPING SQL IN PYTHON (POSGRESQL)\n",
    "#pip install psycopg2-binary\n",
    "#pip install psyco pg2\n",
    "#pip install sqlachemy"
   ]
  },
  {
   "cell_type": "code",
   "execution_count": 4,
   "id": "91c10bf0",
   "metadata": {},
   "outputs": [],
   "source": [
    "# CONNECTING TO POSTGRES SQL\n",
    "import psycopg2\n",
    "from sqlalchemy import create_engine\n",
    "conn = psycopg2.connect(database='postgres', user='postgres', password='1086', host='127.0.0.1', \n",
    "                        port='5432')\n",
    "conn.autocommit=True\n",
    "cursor = conn.cursor()\n",
    "sql = '''CREATE database mydb4''';\n",
    "cursor.execute(sql)"
   ]
  },
    {
   "cell_type": "code",
   "execution_count": 4,
   "id": "91c10bf0",
   "metadata": {},
   "outputs": [],
   "source": [
    "# IMPORTING TEXT FILE\n",
    "import psycopg2\n",
    "from sqlalchemy import create_engine\n",
    "df = pd.read_csv('file_location\filename.txt', delimiter = "\t")"
   ]
  },
  {
   "cell_type": "code",
   "execution_count": 2,
   "id": "9553f2e8",
   "metadata": {},
   "outputs": [],
   "source": [
    "from datetime import datetime, timedelta\n",
    "\n",
    "# BASIC DATETIME FUNCTIONS\n",
    "curr_datetime = datetime.now()\n",
    "\n",
    "curr_year = curr_datetime.year\n",
    "curr_month = curr_datetime.month\n",
    "curr_day = curr_datetime.day\n",
    "curr_hour = curr_datetime.hour\n",
    "curr_min = curr_datetime.minute\n",
    "curr_sec = curr_datetime.second\n",
    "\n",
    "#df['day'] = df['datetime'].map(lambda x: x.day)\n",
    "#df['month'] = df['datetime'].map(lambda x: x.month)\n",
    "#df['year'] = df['datetime'].map(lambda x: x.year)\n",
    "#df['hour'] = df['datetime'].map(lambda x: x.hour)\n",
    "#df['minute'] = df['datetime'].map(lambda x: x.minute)\n",
    "#df['second'] = df['datetime'].map(lambda x: x.second)"
   ]
  },
  {
   "cell_type": "code",
   "execution_count": 20,
   "id": "36096d55",
   "metadata": {},
   "outputs": [],
   "source": [
    "# snake_case function\n",
    "\n",
    "def snake_case(df):\n",
    "    df.columns = [x.lower() for x in df.columns]\n",
    "    df.columns = df.columns.str.replace(' ', '_', regex=True)\n",
    "    return df"
   ]
  },
  {
   "cell_type": "code",
   "execution_count": 5,
   "id": "45657082",
   "metadata": {},
   "outputs": [
    {
     "ename": "NameError",
     "evalue": "name 'df' is not defined",
     "output_type": "error",
     "traceback": [
      "\u001b[0;31m---------------------------------------------------------------------------\u001b[0m",
      "\u001b[0;31mNameError\u001b[0m                                 Traceback (most recent call last)",
      "Input \u001b[0;32mIn [5]\u001b[0m, in \u001b[0;36m<cell line: 16>\u001b[0;34m()\u001b[0m\n\u001b[1;32m      1\u001b[0m \u001b[38;5;66;03m# CONVERTING COLUMNS TO DATETIME FOR DATE MANIPULTATION (QUARTERLY ANALYSIS)\u001b[39;00m\n\u001b[1;32m      2\u001b[0m \n\u001b[1;32m      3\u001b[0m \u001b[38;5;66;03m# Quarter definition\u001b[39;00m\n\u001b[0;32m   (...)\u001b[0m\n\u001b[1;32m     14\u001b[0m \n\u001b[1;32m     15\u001b[0m \u001b[38;5;66;03m#converting to columns to datetime\u001b[39;00m\n\u001b[0;32m---> 16\u001b[0m df[\u001b[38;5;124m'\u001b[39m\u001b[38;5;124mdate\u001b[39m\u001b[38;5;124m'\u001b[39m] \u001b[38;5;241m=\u001b[39m pd\u001b[38;5;241m.\u001b[39mto_datetime(\u001b[43mdf\u001b[49m[\u001b[38;5;124m'\u001b[39m\u001b[38;5;124mdate\u001b[39m\u001b[38;5;124m'\u001b[39m])\u001b[38;5;241m.\u001b[39mdt\u001b[38;5;241m.\u001b[39mnormalize()\n\u001b[1;32m     17\u001b[0m df\n\u001b[1;32m     19\u001b[0m \u001b[38;5;66;03m# converting datetime into year, month, day\u001b[39;00m\n",
      "\u001b[0;31mNameError\u001b[0m: name 'df' is not defined"
     ]
    }
   ],
   "source": [
    "# CONVERTING COLUMNS TO DATETIME FOR DATE MANIPULTATION (QUARTERLY ANALYSIS)\n",
    "\n",
    "# Quarter definition\n",
    "# On the financial calendar of a company, a quarter is a three-month interval that serves as the foundation for regular \n",
    "# financial statements and dividend payouts. The quarters of a year are usually denoted by the letters;Q1 stands for the \n",
    "# first quarter, Q2 refers to the second. and so on.\n",
    "\n",
    "# The traditional calendar quarters that make up the year are:\n",
    "#Dates for Q1: January 1 – March 31\n",
    "#Dates for Q2: April 1 – June 3\n",
    "#Dates for Q3: July 1 – September 30\n",
    "#Dates for Q4: October 1 – December 31\n",
    "    \n",
    "\n",
    "#converting to columns to datetime\n",
    "df['date'] = pd.to_datetime(df['date']).dt.normalize()\n",
    "df\n",
    "\n",
    "# converting datetime into year, month, day\n",
    "df['year']= df['date'].dt.year\n",
    "df['month']= df['date'].dt.month\n",
    "df['day']= df['date'].dt.day\n",
    "\n",
    "\n",
    "# selecting quarter dates (1st day of every 3rd month)\n",
    "df = df.loc[df['day'] == 1]\n",
    "df = df[(df['month'] == 1) |\n",
    "        (df['month'] == 3) |\n",
    "        (df['month'] == 6) |\n",
    "        (df['month'] == 9)]\n",
    "\n",
    "\n",
    "# creating quarter column with corresponding months\n",
    "df['Quarter'] = ''\n",
    "df['Quarter'] = np.where(df['month'] == 1, 'Q1', df['Quarter'])\n",
    "df['Quarter'] = np.where(df['month'] == 3, 'Q2', df['Quarter'])\n",
    "df['Quarter'] = np.where(df['month'] == 6, 'Q3', df['Quarter'])\n",
    "df['Quarter'] = np.where(df['month'] == 9, 'Q4', df['Quarter'])"
   ]
  }
 ],
 "metadata": {
  "kernelspec": {
   "display_name": "Python 3 (ipykernel)",
   "language": "python",
   "name": "python3"
  },
  "language_info": {
   "codemirror_mode": {
    "name": "ipython",
    "version": 3
   },
   "file_extension": ".py",
   "mimetype": "text/x-python",
   "name": "python",
   "nbconvert_exporter": "python",
   "pygments_lexer": "ipython3",
   "version": "3.9.12"
  }
 },
 "nbformat": 4,
 "nbformat_minor": 5
}
