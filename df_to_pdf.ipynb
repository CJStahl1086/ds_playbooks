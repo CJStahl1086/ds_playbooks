{
 "cells": [
  {
   "cell_type": "code",
   "execution_count": 10,
   "id": "6e4505ad",
   "metadata": {},
   "outputs": [],
   "source": [
    "import pandas as pd\n",
    "import matplotlib.pyplot as plt\n",
    "from reportlab.lib.pagesizes import letter\n",
    "from reportlab.platypus import SimpleDocTemplate, Table, TableStyle, Spacer\n",
    "from reportlab.lib import colors\n",
    "from reportlab.lib.styles import getSampleStyleSheet\n",
    "from reportlab.platypus import Paragraph\n",
    "\n",
    "# Example dataframes\n",
    "df1 = pd.DataFrame({'A': [1, 2, 3], 'B': [4, 5, 6]})\n",
    "df2 = pd.DataFrame({'C': [7, 8, 9], 'D': [10, 11, 12]})\n",
    "df3 = pd.DataFrame({'E': [13, 14, 15], 'F': [16, 17, 18]})\n",
    "\n",
    "def dataframe_to_table(df):\n",
    "    data = [df.columns.to_list()] + df.to_numpy().tolist()\n",
    "    table = Table(data)\n",
    "    table.setStyle(TableStyle([\n",
    "        ('BACKGROUND', (0, 0), (-1, 0), colors.blue),\n",
    "        ('TEXTCOLOR', (0, 0), (-1, 0), colors.whitesmoke),\n",
    "        ('ALIGN', (0, 0), (-1, -1), 'CENTER'),\n",
    "        ('FONTNAME', (0, 0), (-1, 0), 'Helvetica-Bold'),\n",
    "        ('FONTSIZE', (0, 0), (-1, 0), 14),\n",
    "        ('BOTTOMPADDING', (0, 0), (-1, 0), 12),\n",
    "        ('BACKGROUND', (0, 1), (-1, -1), colors.beige),\n",
    "        ('GRID', (0, 0), (-1, -1), 1, colors.black)\n",
    "    ]))\n",
    "    return table\n",
    "\n",
    "# Create a PDF file\n",
    "pdf_file = \"dataframes_with_titles.pdf\"\n",
    "doc = SimpleDocTemplate(pdf_file, pagesize=letter)\n",
    "\n",
    "# Add a main title to the PDF and center-align it\n",
    "styles = getSampleStyleSheet()\n",
    "main_title = Paragraph(\"My Dataframes\", styles['Heading1'])\n",
    "main_title_style = styles['Heading1']\n",
    "main_title_style.alignment = 1  # 1 represents center alignment\n",
    "\n",
    "# Add separate central titles for each dataframe\n",
    "df_titles = [\"Dataframe 1\", \"Dataframe 2\", \"Dataframe 3\"]\n",
    "subtitle_style = styles['Heading2']\n",
    "subtitle_style.alignment = 1  # 1 represents center alignment\n",
    "\n",
    "# Convert dataframes to tables and add them to the PDF\n",
    "elements = [main_title, Spacer(0, 20)]\n",
    "for title, df in zip(df_titles, [df1, df2, df3]):\n",
    "    subtitle = Paragraph(title, subtitle_style)\n",
    "    elements.append(subtitle)\n",
    "    elements.append(Spacer(0, 10))\n",
    "    table = dataframe_to_table(df)\n",
    "    elements.append(table)\n",
    "    elements.append(Spacer(0, 20))  # Add space between tables\n",
    "\n",
    "doc.build(elements)\n"
   ]
  },
  {
   "cell_type": "code",
   "execution_count": null,
   "id": "ebaf0023",
   "metadata": {},
   "outputs": [],
   "source": []
  }
 ],
 "metadata": {
  "kernelspec": {
   "display_name": "Python 3 (ipykernel)",
   "language": "python",
   "name": "python3"
  },
  "language_info": {
   "codemirror_mode": {
    "name": "ipython",
    "version": 3
   },
   "file_extension": ".py",
   "mimetype": "text/x-python",
   "name": "python",
   "nbconvert_exporter": "python",
   "pygments_lexer": "ipython3",
   "version": "3.9.12"
  }
 },
 "nbformat": 4,
 "nbformat_minor": 5
}
